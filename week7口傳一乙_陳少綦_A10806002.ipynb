{
  "nbformat": 4,
  "nbformat_minor": 0,
  "metadata": {
    "colab": {
      "name": "week7口傳一乙 陳少綦 A10806002.ipynb",
      "provenance": []
    },
    "kernelspec": {
      "name": "python3",
      "display_name": "Python 3"
    }
  },
  "cells": [
    {
      "cell_type": "code",
      "metadata": {
        "id": "mFRkJP9a76gW",
        "colab_type": "code",
        "colab": {
          "base_uri": "https://localhost:8080/",
          "height": 151
        },
        "outputId": "fd5fa35a-301b-45c7-acc6-2b8259688ca1"
      },
      "source": [
        "Tv_show=\"梨泰院class\"#電視名稱\n",
        "Release_year=\"2020\"#上映時間\n",
        "Episode=\"16集\"#集數\n",
        "Ratings=\"11.832%\"#收視率\n",
        "Language=\"韓文\"#語言\n",
        "Director=\"金成允\"#導演\n",
        "Main_actor=\"朴敘俊\"#男主角\n",
        "Main_actress=\"金多美\"#女主角\n",
        "print(Tv_show)\n",
        "print(Release_year)\n",
        "print(Episode)\n",
        "print(Ratings)\n",
        "print(Language)\n",
        "print(Director)\n",
        "print(Main_actor)\n",
        "print(Main_actress)"
      ],
      "execution_count": 2,
      "outputs": [
        {
          "output_type": "stream",
          "text": [
            "梨泰院class\n",
            "2020\n",
            "16集\n",
            "11.832%\n",
            "韓文\n",
            "金成允\n",
            "朴敘俊\n",
            "金多美\n"
          ],
          "name": "stdout"
        }
      ]
    }
  ]
}