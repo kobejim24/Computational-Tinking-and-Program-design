{
  "nbformat": 4,
  "nbformat_minor": 0,
  "metadata": {
    "colab": {
      "name": "week12-A108060002-陳少綦.ipynb",
      "provenance": []
    },
    "kernelspec": {
      "name": "python3",
      "display_name": "Python 3"
    }
  },
  "cells": [
    {
      "cell_type": "code",
      "metadata": {
        "id": "uT7LNcTuN8xR",
        "colab_type": "code",
        "colab": {
          "base_uri": "https://localhost:8080/",
          "height": 84
        },
        "outputId": "27074b8d-bdf9-44fd-e492-0d4c30ee3d67"
      },
      "source": [
        "noodle = input(\"有麵嗎？(YES/NO)\")\n",
        "sauce = input(\"有醬料嗎?(YES/NO)\")\n",
        "if noodle == \"YES\" and sauce ==\"YES\":\n",
        "  print(\"今晚吃義大利麵\")\n",
        "  print(\"well done!\")"
      ],
      "execution_count": 1,
      "outputs": [
        {
          "output_type": "stream",
          "text": [
            "有麵嗎？(YES/NO)YES\n",
            "有醬料嗎?(YES/NO)YES\n",
            "今晚吃義大利麵\n",
            "well done!\n"
          ],
          "name": "stdout"
        }
      ]
    },
    {
      "cell_type": "code",
      "metadata": {
        "id": "RvVPyUWrOOd9",
        "colab_type": "code",
        "colab": {
          "base_uri": "https://localhost:8080/",
          "height": 84
        },
        "outputId": "efaebd14-d772-4247-b570-3b1e0a26fb7a"
      },
      "source": [
        "noodle = input(\"有麵嗎? (YES/NO)\")\n",
        "sauce = input(\"有醬料嗎?(YES/NO)\")\n",
        "if noodle ==\"YES\":\n",
        "    if sauce == \"YES\":\n",
        "     print(\"可做義大利麵!\")\n",
        "print(\"Well done!\")"
      ],
      "execution_count": 2,
      "outputs": [
        {
          "output_type": "stream",
          "text": [
            "有麵嗎? (YES/NO)YES\n",
            "有醬料嗎?(YES/NO)YES\n",
            "可做義大利麵!\n",
            "Well done!\n"
          ],
          "name": "stdout"
        }
      ]
    },
    {
      "cell_type": "code",
      "metadata": {
        "id": "9gp53H_yOWL8",
        "colab_type": "code",
        "colab": {
          "base_uri": "https://localhost:8080/",
          "height": 101
        },
        "outputId": "bd6003c3-c54e-4623-c840-cdd4d4c9d070"
      },
      "source": [
        "num_1 = int(input(\"Enter a number: \"))\n",
        "num_2 = int(input(\"Enter a number: \"))\n",
        "if num_1 == 6:\n",
        "     print(\"Great,what a number!\")\n",
        "     if num_2 == 14:\n",
        "         print(\"Wonderful, I win.\")\n",
        "print(\"End\")"
      ],
      "execution_count": 3,
      "outputs": [
        {
          "output_type": "stream",
          "text": [
            "Enter a number: 6\n",
            "Enter a number: 14\n",
            "Great,what a number!\n",
            "Wonderful, I win.\n",
            "End\n"
          ],
          "name": "stdout"
        }
      ]
    },
    {
      "cell_type": "code",
      "metadata": {
        "id": "ama-j2mOOfkw",
        "colab_type": "code",
        "colab": {
          "base_uri": "https://localhost:8080/",
          "height": 67
        },
        "outputId": "4436b534-33e8-44d3-b1c8-209eaef6f797"
      },
      "source": [
        "num = input(\"Enter a number: \")\n",
        "num = int(num)\n",
        "if num > 0:\n",
        "    print(\"Positive number\")\n",
        "if num < 0:\n",
        "    print(\"Negative number\")\n",
        "if num == 0:\n",
        "    print(\"zero\")\n",
        "print(\"End\")"
      ],
      "execution_count": 6,
      "outputs": [
        {
          "output_type": "stream",
          "text": [
            "Enter a number: 0\n",
            "zero\n",
            "End\n"
          ],
          "name": "stdout"
        }
      ]
    }
  ]
}