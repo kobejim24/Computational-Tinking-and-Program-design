{
  "nbformat": 4,
  "nbformat_minor": 0,
  "metadata": {
    "colab": {
      "name": "week4 A108060056 周聖雅.ipynb",
      "provenance": []
    },
    "kernelspec": {
      "name": "python3",
      "display_name": "Python 3"
    }
  },
  "cells": [
    {
      "cell_type": "code",
      "metadata": {
        "id": "FZrAXa7BRo24",
        "colab_type": "code",
        "outputId": "28582222-87fc-40d2-e1d7-b3db00b2047d",
        "colab": {
          "base_uri": "https://localhost:8080/",
          "height": 34
        }
      },
      "source": [
        "print(\"hey 陳少綦\")"
      ],
      "execution_count": 0,
      "outputs": [
        {
          "output_type": "stream",
          "text": [
            "hey 陳少綦\n"
          ],
          "name": "stdout"
        }
      ]
    },
    {
      "cell_type": "code",
      "metadata": {
        "id": "bPC1_yVaS2Tn",
        "colab_type": "code",
        "outputId": "ec9e69aa-f205-47e2-c5f7-5e724d4b0783",
        "colab": {
          "base_uri": "https://localhost:8080/",
          "height": 34
        }
      },
      "source": [
        "print(\"hey 周聖雅\")"
      ],
      "execution_count": 0,
      "outputs": [
        {
          "output_type": "stream",
          "text": [
            "hey 周聖雅\n"
          ],
          "name": "stdout"
        }
      ]
    }
  ]
}